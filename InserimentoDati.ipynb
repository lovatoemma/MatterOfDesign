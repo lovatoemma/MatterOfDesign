{
 "cells": [
  {
   "cell_type": "markdown",
   "metadata": {},
   "source": [
    "# Inserimento manuale dei dati nel database\n",
    "### Matter Of Design"
   ]
  },
  {
   "cell_type": "code",
   "execution_count": 27,
   "metadata": {},
   "outputs": [
    {
     "name": "stdout",
     "output_type": "stream",
     "text": [
      "Requirement already satisfied: mysql-connector-python in c:\\users\\emmal\\scoop\\apps\\python\\3.12.3\\lib\\site-packages (9.1.0)\n",
      "Requirement already satisfied: boto3 in c:\\users\\emmal\\scoop\\apps\\python\\3.12.3\\lib\\site-packages (1.35.41)\n",
      "Requirement already satisfied: botocore<1.36.0,>=1.35.41 in c:\\users\\emmal\\scoop\\apps\\python\\3.12.3\\lib\\site-packages (from boto3) (1.35.41)\n",
      "Requirement already satisfied: jmespath<2.0.0,>=0.7.1 in c:\\users\\emmal\\scoop\\apps\\python\\3.12.3\\lib\\site-packages (from boto3) (1.0.1)\n",
      "Requirement already satisfied: s3transfer<0.11.0,>=0.10.0 in c:\\users\\emmal\\scoop\\apps\\python\\3.12.3\\lib\\site-packages (from boto3) (0.10.3)\n",
      "Requirement already satisfied: python-dateutil<3.0.0,>=2.1 in c:\\users\\emmal\\appdata\\roaming\\python\\python312\\site-packages (from botocore<1.36.0,>=1.35.41->boto3) (2.9.0.post0)\n",
      "Requirement already satisfied: urllib3!=2.2.0,<3,>=1.25.4 in c:\\users\\emmal\\scoop\\apps\\python\\3.12.3\\lib\\site-packages (from botocore<1.36.0,>=1.35.41->boto3) (2.2.2)\n",
      "Requirement already satisfied: six>=1.5 in c:\\users\\emmal\\appdata\\roaming\\python\\python312\\site-packages (from python-dateutil<3.0.0,>=2.1->botocore<1.36.0,>=1.35.41->boto3) (1.16.0)\n",
      "Note: you may need to restart the kernel to use updated packages.\n"
     ]
    },
    {
     "name": "stderr",
     "output_type": "stream",
     "text": [
      "\n",
      "[notice] A new release of pip is available: 24.0 -> 24.3.1\n",
      "[notice] To update, run: python.exe -m pip install --upgrade pip\n"
     ]
    }
   ],
   "source": [
    "pip install mysql-connector-python boto3"
   ]
  },
  {
   "cell_type": "code",
   "execution_count": 28,
   "metadata": {},
   "outputs": [],
   "source": [
    "# Librerie necessarie\n",
    "import mysql.connector\n",
    "import boto3\n",
    "from tkinter import Tk, Label, Entry, Button, messagebox"
   ]
  },
  {
   "cell_type": "markdown",
   "metadata": {},
   "source": [
    "## Inserimento dati"
   ]
  },
  {
   "cell_type": "code",
   "execution_count": 29,
   "metadata": {},
   "outputs": [
    {
     "name": "stdout",
     "output_type": "stream",
     "text": [
      "Connected to MySQL database\n"
     ]
    }
   ],
   "source": [
    "# Funzione per connettersi al database\n",
    "def connect_to_db():\n",
    "    try:\n",
    "        connection = mysql.connector.connect(\n",
    "            host='matterofdesign.cboqqic8cvp0.eu-west-2.rds.amazonaws.com',\n",
    "            user='Massaro',\n",
    "            password='4PGZUfbq^$pbngQ',\n",
    "            database='MatterOfDesign'\n",
    "        )\n",
    "        if connection.is_connected():\n",
    "            print(\"Connected to MySQL database\")\n",
    "            return connection\n",
    "    except mysql.connector.Error as e:\n",
    "        print(f\"Error: {e}\")\n",
    "        return None\n",
    "\n",
    "# Funzione per caricare un file su Amazon S3\n",
    "def upload_to_s3(file_path, bucket_name, s3_key):\n",
    "    s3 = boto3.client('s3')\n",
    "    try:\n",
    "        s3.upload_file(file_path, bucket_name, s3_key)\n",
    "        return f\"https://{bucket_name}.s3.amazonaws.com/{s3_key}\"\n",
    "    except Exception as e:\n",
    "        print(f\"Error uploading file: {e}\")\n",
    "        return None\n",
    "\n",
    "# Funzione per inserire i dati nel database\n",
    "def insert_data(codice_articolo, brand, finitura, posa, collezione, dimensione, \n",
    "                prezzo_unitario, prezzo_mq, colore, spessore, tipologia_id, \n",
    "                documento_path, immagine_path):\n",
    "    cursor = db_connection.cursor()\n",
    "    \n",
    "    # Caricamento del documento su S3 (se fornito)\n",
    "    documento_url = upload_to_s3(documento_path, 'matterofdesign-files', f'documenti/{codice_articolo}_doc') if documento_path else None\n",
    "    immagine_url = upload_to_s3(immagine_path, 'matterofdesign-files', f'immagini/{codice_articolo}_img') if immagine_path else None\n",
    "\n",
    "    query = \"\"\"\n",
    "    INSERT INTO Prodotto (codice_articolo, brand, finitura, posa, collezione, \n",
    "    dimensione, prezzo_unitario, prezzo_mq, colore, spessore, \n",
    "    tipologia_id, documento, immagine) \n",
    "    VALUES (%s, %s, %s, %s, %s, %s, %s, %s, %s, %s, %s, %s, %s)\n",
    "    \"\"\"\n",
    "    values = (codice_articolo, brand, finitura, \n",
    "              posa if posa else None,\n",
    "              collezione, dimensione, \n",
    "              prezzo_unitario if prezzo_unitario is not None else None, \n",
    "              prezzo_mq if prezzo_mq is not None else None, \n",
    "              colore, \n",
    "              spessore if spessore is not None else None, \n",
    "              tipologia_id, \n",
    "              documento_url, immagine_url)\n",
    "    cursor.execute(query, values)\n",
    "    db_connection.commit()\n",
    "\n",
    "# Funzione per raccogliere i dati dall'interfaccia e inserirli\n",
    "def submit_data():\n",
    "    try:\n",
    "        codice_articolo = codice_articolo_entry.get()\n",
    "        brand = brand_entry.get()\n",
    "        finitura = finitura_entry.get()\n",
    "        posa = posa_entry.get()\n",
    "        collezione = collezione_entry.get()\n",
    "        dimensione = dimensione_entry.get()\n",
    "        prezzo_unitario = prezzo_unitario_entry.get()\n",
    "        prezzo_mq = prezzo_mq_entry.get()\n",
    "        prezzo_unitario = float(prezzo_unitario) if prezzo_unitario else None\n",
    "        prezzo_mq = float(prezzo_mq) if prezzo_mq else None\n",
    "        colore = colore_entry.get()\n",
    "        spessore = spessore_entry.get()\n",
    "        spessore = float(spessore) if spessore else None\n",
    "        tipologia_id = int(tipologia_id_entry.get())\n",
    "        documento_path = documento_entry.get()  # Percorso del file documento\n",
    "        immagine_path = immagine_entry.get()  # Percorso del file immagine\n",
    "\n",
    "        insert_data(codice_articolo, brand, finitura, posa, collezione, dimensione, \n",
    "                    prezzo_unitario, prezzo_mq, colore, spessore, tipologia_id, \n",
    "                    documento_path, immagine_path)\n",
    "        messagebox.showinfo(\"Success\", \"Dati inseriti correttamente!\")\n",
    "    except Exception as e:\n",
    "        messagebox.showerror(\"Error\", f\"Errore nell'inserimento dei dati: {e}\")\n",
    "\n",
    "# Connessione al database\n",
    "db_connection = connect_to_db()\n",
    "\n",
    "# Creazione dell'interfaccia grafica\n",
    "root = Tk()\n",
    "root.title(\"Inserimento Dati Prodotto\")\n",
    "\n",
    "# Creazione dei campi di input\n",
    "Label(root, text=\"Codice Articolo\").grid(row=0)\n",
    "Label(root, text=\"Brand\").grid(row=1)\n",
    "Label(root, text=\"Finitura\").grid(row=2)\n",
    "Label(root, text=\"Posa\").grid(row=3)\n",
    "Label(root, text=\"Collezione\").grid(row=4)\n",
    "Label(root, text=\"Dimensione\").grid(row=5)\n",
    "Label(root, text=\"Prezzo Unitario\").grid(row=6)\n",
    "Label(root, text=\"Prezzo per MQ\").grid(row=7)\n",
    "Label(root, text=\"Colore\").grid(row=8)\n",
    "Label(root, text=\"Spessore\").grid(row=9)\n",
    "Label(root, text=\"Tipologia ID\").grid(row=10)\n",
    "Label(root, text=\"Percorso Documento\").grid(row=11)\n",
    "Label(root, text=\"Percorso Immagine\").grid(row=12)\n",
    "\n",
    "codice_articolo_entry = Entry(root)\n",
    "brand_entry = Entry(root)\n",
    "finitura_entry = Entry(root)\n",
    "posa_entry = Entry(root)\n",
    "collezione_entry = Entry(root)\n",
    "dimensione_entry = Entry(root)\n",
    "prezzo_unitario_entry = Entry(root)\n",
    "prezzo_mq_entry = Entry(root)\n",
    "colore_entry = Entry(root)\n",
    "spessore_entry = Entry(root)\n",
    "tipologia_id_entry = Entry(root)\n",
    "documento_entry = Entry(root)\n",
    "immagine_entry = Entry(root)\n",
    "\n",
    "codice_articolo_entry.grid(row=0, column=1)\n",
    "brand_entry.grid(row=1, column=1)\n",
    "finitura_entry.grid(row=2, column=1)\n",
    "posa_entry.grid(row=3, column=1)\n",
    "collezione_entry.grid(row=4, column=1)\n",
    "dimensione_entry.grid(row=5, column=1)\n",
    "prezzo_unitario_entry.grid(row=6, column=1)\n",
    "prezzo_mq_entry.grid(row=7, column=1)\n",
    "colore_entry.grid(row=8, column=1)\n",
    "spessore_entry.grid(row=9, column=1)\n",
    "tipologia_id_entry.grid(row=10, column=1)\n",
    "documento_entry.grid(row=11, column=1)\n",
    "immagine_entry.grid(row=12, column=1)\n",
    "\n",
    "# Pulsante per inviare i dati\n",
    "Button(root, text=\"Inserisci\", command=submit_data).grid(row=13, column=1)\n",
    "\n",
    "# Avvio dell'interfaccia\n",
    "root.mainloop()\n"
   ]
  },
  {
   "cell_type": "markdown",
   "metadata": {},
   "source": [
    "## Verifica dati"
   ]
  },
  {
   "cell_type": "code",
   "execution_count": 30,
   "metadata": {},
   "outputs": [
    {
     "name": "stdout",
     "output_type": "stream",
     "text": [
      "Connected to MySQL database\n",
      "('AL2487', 'Alice Ceramica', 'Lucido', 'Sospeso', 'Hide', '54x34', Decimal('388.00'), None, 'Bianco', None, 4, None, None)\n"
     ]
    }
   ],
   "source": [
    "# Funzione per connettersi al database\n",
    "def connect_to_db():\n",
    "    try:\n",
    "        connection = mysql.connector.connect(\n",
    "            host='matterofdesign.cboqqic8cvp0.eu-west-2.rds.amazonaws.com',\n",
    "            user='Massaro',\n",
    "            password='4PGZUfbq^$pbngQ',\n",
    "            database='MatterOfDesign'\n",
    "        )\n",
    "        if connection.is_connected():\n",
    "            print(\"Connected to MySQL database\")\n",
    "            return connection\n",
    "    except mysql.connector.Error as e:\n",
    "        print(f\"Error: {e}\")\n",
    "        return None\n",
    "\n",
    "def fetch_data():\n",
    "    connection = connect_to_db()\n",
    "    cursor = connection.cursor()\n",
    "    cursor.execute(\"SELECT * FROM Prodotto\")\n",
    "    results = cursor.fetchall()\n",
    "    for row in results:\n",
    "        print(row)\n",
    "\n",
    "# Esegui la funzione per vedere i dati\n",
    "fetch_data()"
   ]
  }
 ],
 "metadata": {
  "kernelspec": {
   "display_name": "Python 3",
   "language": "python",
   "name": "python3"
  },
  "language_info": {
   "codemirror_mode": {
    "name": "ipython",
    "version": 3
   },
   "file_extension": ".py",
   "mimetype": "text/x-python",
   "name": "python",
   "nbconvert_exporter": "python",
   "pygments_lexer": "ipython3",
   "version": "3.12.3"
  }
 },
 "nbformat": 4,
 "nbformat_minor": 2
}
